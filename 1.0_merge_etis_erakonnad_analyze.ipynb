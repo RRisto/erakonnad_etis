{
 "cells": [
  {
   "cell_type": "code",
   "execution_count": 182,
   "id": "b1799ad4",
   "metadata": {},
   "outputs": [],
   "source": [
    "import os\n",
    "import pandas as pd\n",
    "import numpy as np\n",
    "import matplotlib.pyplot as plt"
   ]
  },
  {
   "cell_type": "markdown",
   "id": "47d88b90",
   "metadata": {},
   "source": [
    "## Data"
   ]
  },
  {
   "cell_type": "code",
   "execution_count": 146,
   "id": "cf8eccf9",
   "metadata": {},
   "outputs": [
    {
     "data": {
      "text/plain": [
       "['EESTIMAA_ÜHENDATUD_VASAKPARTEI.csv',\n",
       " 'Eesti_Iseseisvuspartei.csv',\n",
       " 'Eesti_Keskerakond.csv',\n",
       " 'Eesti_Konservatiivne_Rahvaerakond.csv',\n",
       " 'Eesti_Reformierakond.csv',\n",
       " 'Eesti_Tulevikuerakond.csv',\n",
       " 'Eesti_Vabaduspartei_-_Põllumeeste_Kogu.csv',\n",
       " 'Erakond_Eestimaa_Rohelised.csv',\n",
       " 'Erakond_Eesti_200.csv',\n",
       " 'ISAMAA_Erakond.csv',\n",
       " 'Rahva_Ühtsuse_Erakond.csv',\n",
       " 'Sotsiaaldemokraatlik_Erakond.csv']"
      ]
     },
     "execution_count": 146,
     "metadata": {},
     "output_type": "execute_result"
    }
   ],
   "source": [
    "ERAKONNAD_FOLDER='data/raw/erakonnad/'\n",
    "erakonnad_files=os.listdir(ERAKONNAD_FOLDER)\n",
    "erakonnad_files"
   ]
  },
  {
   "cell_type": "code",
   "execution_count": 147,
   "id": "b4a5df29",
   "metadata": {},
   "outputs": [],
   "source": [
    "df_erakonnad=pd.DataFrame()\n",
    "for erakond in erakonnad_files:\n",
    "    df_=pd.read_csv(f'{ERAKONNAD_FOLDER}/{erakond}', sep=';')\n",
    "    df_['erakond']=erakond.replace('.csv', '')\n",
    "#     df_erakonnad=df_erakonnad.append(df_)\n",
    "    df_erakonnad=pd.concat([df_erakonnad, df_])"
   ]
  },
  {
   "cell_type": "code",
   "execution_count": 148,
   "id": "1ce00167",
   "metadata": {},
   "outputs": [
    {
     "data": {
      "text/plain": [
       "(52935, 6)"
      ]
     },
     "execution_count": 148,
     "metadata": {},
     "output_type": "execute_result"
    }
   ],
   "source": [
    "df_erakonnad.shape"
   ]
  },
  {
   "cell_type": "code",
   "execution_count": 149,
   "id": "488f928a",
   "metadata": {},
   "outputs": [
    {
     "data": {
      "text/html": [
       "<div>\n",
       "<style scoped>\n",
       "    .dataframe tbody tr th:only-of-type {\n",
       "        vertical-align: middle;\n",
       "    }\n",
       "\n",
       "    .dataframe tbody tr th {\n",
       "        vertical-align: top;\n",
       "    }\n",
       "\n",
       "    .dataframe thead th {\n",
       "        text-align: right;\n",
       "    }\n",
       "</style>\n",
       "<table border=\"1\" class=\"dataframe\">\n",
       "  <thead>\n",
       "    <tr style=\"text-align: right;\">\n",
       "      <th></th>\n",
       "      <th>Eesnimi</th>\n",
       "      <th>Perekonnanimi</th>\n",
       "      <th>Sünniaeg</th>\n",
       "      <th>Liikmeks astumise aeg</th>\n",
       "      <th>Erakondliku kuuluvuse peatamine</th>\n",
       "      <th>erakond</th>\n",
       "    </tr>\n",
       "  </thead>\n",
       "  <tbody>\n",
       "    <tr>\n",
       "      <th>0</th>\n",
       "      <td>Zoja</td>\n",
       "      <td>Dudtšak</td>\n",
       "      <td>03.12.1951</td>\n",
       "      <td>01.01.2009</td>\n",
       "      <td>NaN</td>\n",
       "      <td>EESTIMAA_ÜHENDATUD_VASAKPARTEI</td>\n",
       "    </tr>\n",
       "    <tr>\n",
       "      <th>1</th>\n",
       "      <td>Arkadi</td>\n",
       "      <td>Gorlatš</td>\n",
       "      <td>21.02.1961</td>\n",
       "      <td>03.05.1996</td>\n",
       "      <td>NaN</td>\n",
       "      <td>EESTIMAA_ÜHENDATUD_VASAKPARTEI</td>\n",
       "    </tr>\n",
       "    <tr>\n",
       "      <th>2</th>\n",
       "      <td>Urmas</td>\n",
       "      <td>Jamštšinski</td>\n",
       "      <td>02.11.1974</td>\n",
       "      <td>26.04.2002</td>\n",
       "      <td>NaN</td>\n",
       "      <td>EESTIMAA_ÜHENDATUD_VASAKPARTEI</td>\n",
       "    </tr>\n",
       "    <tr>\n",
       "      <th>3</th>\n",
       "      <td>Aivar</td>\n",
       "      <td>Johanson</td>\n",
       "      <td>04.05.1957</td>\n",
       "      <td>15.05.1998</td>\n",
       "      <td>NaN</td>\n",
       "      <td>EESTIMAA_ÜHENDATUD_VASAKPARTEI</td>\n",
       "    </tr>\n",
       "    <tr>\n",
       "      <th>4</th>\n",
       "      <td>Ervin</td>\n",
       "      <td>Juhanson</td>\n",
       "      <td>26.04.1958</td>\n",
       "      <td>15.08.1996</td>\n",
       "      <td>NaN</td>\n",
       "      <td>EESTIMAA_ÜHENDATUD_VASAKPARTEI</td>\n",
       "    </tr>\n",
       "  </tbody>\n",
       "</table>\n",
       "</div>"
      ],
      "text/plain": [
       "  Eesnimi Perekonnanimi    Sünniaeg Liikmeks astumise aeg  \\\n",
       "0    Zoja       Dudtšak  03.12.1951            01.01.2009   \n",
       "1  Arkadi       Gorlatš  21.02.1961            03.05.1996   \n",
       "2   Urmas   Jamštšinski  02.11.1974            26.04.2002   \n",
       "3   Aivar      Johanson  04.05.1957            15.05.1998   \n",
       "4   Ervin      Juhanson  26.04.1958            15.08.1996   \n",
       "\n",
       "   Erakondliku kuuluvuse peatamine                         erakond  \n",
       "0                              NaN  EESTIMAA_ÜHENDATUD_VASAKPARTEI  \n",
       "1                              NaN  EESTIMAA_ÜHENDATUD_VASAKPARTEI  \n",
       "2                              NaN  EESTIMAA_ÜHENDATUD_VASAKPARTEI  \n",
       "3                              NaN  EESTIMAA_ÜHENDATUD_VASAKPARTEI  \n",
       "4                              NaN  EESTIMAA_ÜHENDATUD_VASAKPARTEI  "
      ]
     },
     "execution_count": 149,
     "metadata": {},
     "output_type": "execute_result"
    }
   ],
   "source": [
    "df_erakonnad.head()"
   ]
  },
  {
   "cell_type": "code",
   "execution_count": 150,
   "id": "96e28827",
   "metadata": {},
   "outputs": [
    {
     "data": {
      "text/plain": [
       "(15601, 30)"
      ]
     },
     "execution_count": 150,
     "metadata": {},
     "output_type": "execute_result"
    }
   ],
   "source": [
    "df_etis=pd.read_csv('data/raw/etis/etis.csv')\n",
    "df_etis.shape"
   ]
  },
  {
   "cell_type": "code",
   "execution_count": 151,
   "id": "20666530",
   "metadata": {},
   "outputs": [
    {
     "data": {
      "text/plain": [
       "(15452, 30)"
      ]
     },
     "execution_count": 151,
     "metadata": {},
     "output_type": "execute_result"
    }
   ],
   "source": [
    "#no need for the dead ones\n",
    "df_etis=df_etis[pd.isnull(df_etis.DateOfDeath)]\n",
    "df_etis.shape"
   ]
  },
  {
   "cell_type": "markdown",
   "id": "43f06afc",
   "metadata": {},
   "source": [
    "## Merge"
   ]
  },
  {
   "cell_type": "code",
   "execution_count": 152,
   "id": "eca08d8d",
   "metadata": {},
   "outputs": [
    {
     "data": {
      "text/html": [
       "<div>\n",
       "<style scoped>\n",
       "    .dataframe tbody tr th:only-of-type {\n",
       "        vertical-align: middle;\n",
       "    }\n",
       "\n",
       "    .dataframe tbody tr th {\n",
       "        vertical-align: top;\n",
       "    }\n",
       "\n",
       "    .dataframe thead th {\n",
       "        text-align: right;\n",
       "    }\n",
       "</style>\n",
       "<table border=\"1\" class=\"dataframe\">\n",
       "  <thead>\n",
       "    <tr style=\"text-align: right;\">\n",
       "      <th></th>\n",
       "      <th>Guid</th>\n",
       "      <th>PersonGuid</th>\n",
       "      <th>PersonName</th>\n",
       "      <th>DateOfBirth</th>\n",
       "      <th>DateOfDeath</th>\n",
       "      <th>Email</th>\n",
       "      <th>Phone</th>\n",
       "      <th>Phone2</th>\n",
       "      <th>Description</th>\n",
       "      <th>Homepage</th>\n",
       "      <th>...</th>\n",
       "      <th>Publications</th>\n",
       "      <th>Degrees</th>\n",
       "      <th>Mentorships</th>\n",
       "      <th>ScientificEquipments</th>\n",
       "      <th>Projects</th>\n",
       "      <th>ResearchAreasCercs</th>\n",
       "      <th>ResearchAreasEtis</th>\n",
       "      <th>ServiceAdditionalInfos</th>\n",
       "      <th>IndustrialProperties</th>\n",
       "      <th>GoogleScholarProfile</th>\n",
       "    </tr>\n",
       "  </thead>\n",
       "  <tbody>\n",
       "    <tr>\n",
       "      <th>0</th>\n",
       "      <td>7ecd0457-d6d3-4519-a78b-7544e1018862</td>\n",
       "      <td>2f0a87b1-b630-4667-befb-f11cf61ee771</td>\n",
       "      <td>Bradley Thayer</td>\n",
       "      <td>NaN</td>\n",
       "      <td>NaN</td>\n",
       "      <td>NaN</td>\n",
       "      <td>NaN</td>\n",
       "      <td>NaN</td>\n",
       "      <td>NaN</td>\n",
       "      <td>NaN</td>\n",
       "      <td>...</td>\n",
       "      <td>[]</td>\n",
       "      <td>[]</td>\n",
       "      <td>[]</td>\n",
       "      <td>[]</td>\n",
       "      <td>[]</td>\n",
       "      <td>[]</td>\n",
       "      <td>[]</td>\n",
       "      <td>[]</td>\n",
       "      <td>[]</td>\n",
       "      <td>NaN</td>\n",
       "    </tr>\n",
       "    <tr>\n",
       "      <th>1</th>\n",
       "      <td>7783047b-4819-4dee-a3fe-ba1c7729de91</td>\n",
       "      <td>7783047b-4819-4dee-a3fe-ba1c7729de91</td>\n",
       "      <td>Erik Georg William Kõvamees</td>\n",
       "      <td>17.01.1992</td>\n",
       "      <td>NaN</td>\n",
       "      <td>NaN</td>\n",
       "      <td>NaN</td>\n",
       "      <td>NaN</td>\n",
       "      <td>NaN</td>\n",
       "      <td>NaN</td>\n",
       "      <td>...</td>\n",
       "      <td>[]</td>\n",
       "      <td>[{'DisplayInfo': 'Erik Georg William Kõvamees,...</td>\n",
       "      <td>[]</td>\n",
       "      <td>[]</td>\n",
       "      <td>[]</td>\n",
       "      <td>[]</td>\n",
       "      <td>[]</td>\n",
       "      <td>[]</td>\n",
       "      <td>[]</td>\n",
       "      <td>NaN</td>\n",
       "    </tr>\n",
       "    <tr>\n",
       "      <th>2</th>\n",
       "      <td>fae3d52f-0431-427a-b917-343dedacd6b0</td>\n",
       "      <td>fae3d52f-0431-427a-b917-343dedacd6b0</td>\n",
       "      <td>Christine Lumen</td>\n",
       "      <td>13.02.1990</td>\n",
       "      <td>NaN</td>\n",
       "      <td>NaN</td>\n",
       "      <td>NaN</td>\n",
       "      <td>NaN</td>\n",
       "      <td>NaN</td>\n",
       "      <td>NaN</td>\n",
       "      <td>...</td>\n",
       "      <td>[]</td>\n",
       "      <td>[{'DisplayInfo': 'Christine Lumen, magistrikra...</td>\n",
       "      <td>[]</td>\n",
       "      <td>[]</td>\n",
       "      <td>[]</td>\n",
       "      <td>[]</td>\n",
       "      <td>[]</td>\n",
       "      <td>[]</td>\n",
       "      <td>[]</td>\n",
       "      <td>NaN</td>\n",
       "    </tr>\n",
       "    <tr>\n",
       "      <th>3</th>\n",
       "      <td>a30bf3dc-0d9e-4791-9881-6ffb0433e900</td>\n",
       "      <td>a30bf3dc-0d9e-4791-9881-6ffb0433e900</td>\n",
       "      <td>Ardo Reinsalu</td>\n",
       "      <td>NaN</td>\n",
       "      <td>NaN</td>\n",
       "      <td>NaN</td>\n",
       "      <td>NaN</td>\n",
       "      <td>NaN</td>\n",
       "      <td>NaN</td>\n",
       "      <td>NaN</td>\n",
       "      <td>...</td>\n",
       "      <td>[]</td>\n",
       "      <td>[]</td>\n",
       "      <td>[]</td>\n",
       "      <td>[]</td>\n",
       "      <td>[]</td>\n",
       "      <td>[]</td>\n",
       "      <td>[]</td>\n",
       "      <td>[{'DisplayInfo': '2014 – 2016 Eesti Haigekassa...</td>\n",
       "      <td>[]</td>\n",
       "      <td>NaN</td>\n",
       "    </tr>\n",
       "    <tr>\n",
       "      <th>4</th>\n",
       "      <td>0012ca2c-828b-4c46-b2c3-1f1eeede89e4</td>\n",
       "      <td>0012ca2c-828b-4c46-b2c3-1f1eeede89e4</td>\n",
       "      <td>Sven Kunsing</td>\n",
       "      <td>21.11.1972</td>\n",
       "      <td>NaN</td>\n",
       "      <td>NaN</td>\n",
       "      <td>NaN</td>\n",
       "      <td>NaN</td>\n",
       "      <td>NaN</td>\n",
       "      <td>NaN</td>\n",
       "      <td>...</td>\n",
       "      <td>[]</td>\n",
       "      <td>[{'DisplayInfo': 'Sven Kunsing, magistrikraad,...</td>\n",
       "      <td>[]</td>\n",
       "      <td>[]</td>\n",
       "      <td>[]</td>\n",
       "      <td>[]</td>\n",
       "      <td>[]</td>\n",
       "      <td>[]</td>\n",
       "      <td>[]</td>\n",
       "      <td>NaN</td>\n",
       "    </tr>\n",
       "  </tbody>\n",
       "</table>\n",
       "<p>5 rows × 30 columns</p>\n",
       "</div>"
      ],
      "text/plain": [
       "                                   Guid                            PersonGuid  \\\n",
       "0  7ecd0457-d6d3-4519-a78b-7544e1018862  2f0a87b1-b630-4667-befb-f11cf61ee771   \n",
       "1  7783047b-4819-4dee-a3fe-ba1c7729de91  7783047b-4819-4dee-a3fe-ba1c7729de91   \n",
       "2  fae3d52f-0431-427a-b917-343dedacd6b0  fae3d52f-0431-427a-b917-343dedacd6b0   \n",
       "3  a30bf3dc-0d9e-4791-9881-6ffb0433e900  a30bf3dc-0d9e-4791-9881-6ffb0433e900   \n",
       "4  0012ca2c-828b-4c46-b2c3-1f1eeede89e4  0012ca2c-828b-4c46-b2c3-1f1eeede89e4   \n",
       "\n",
       "                    PersonName DateOfBirth DateOfDeath Email Phone Phone2  \\\n",
       "0               Bradley Thayer         NaN         NaN   NaN   NaN    NaN   \n",
       "1  Erik Georg William Kõvamees  17.01.1992         NaN   NaN   NaN    NaN   \n",
       "2              Christine Lumen  13.02.1990         NaN   NaN   NaN    NaN   \n",
       "3                Ardo Reinsalu         NaN         NaN   NaN   NaN    NaN   \n",
       "4                 Sven Kunsing  21.11.1972         NaN   NaN   NaN    NaN   \n",
       "\n",
       "  Description Homepage  ... Publications  \\\n",
       "0         NaN      NaN  ...           []   \n",
       "1         NaN      NaN  ...           []   \n",
       "2         NaN      NaN  ...           []   \n",
       "3         NaN      NaN  ...           []   \n",
       "4         NaN      NaN  ...           []   \n",
       "\n",
       "                                             Degrees Mentorships  \\\n",
       "0                                                 []          []   \n",
       "1  [{'DisplayInfo': 'Erik Georg William Kõvamees,...          []   \n",
       "2  [{'DisplayInfo': 'Christine Lumen, magistrikra...          []   \n",
       "3                                                 []          []   \n",
       "4  [{'DisplayInfo': 'Sven Kunsing, magistrikraad,...          []   \n",
       "\n",
       "  ScientificEquipments Projects ResearchAreasCercs ResearchAreasEtis  \\\n",
       "0                   []       []                 []                []   \n",
       "1                   []       []                 []                []   \n",
       "2                   []       []                 []                []   \n",
       "3                   []       []                 []                []   \n",
       "4                   []       []                 []                []   \n",
       "\n",
       "                              ServiceAdditionalInfos IndustrialProperties  \\\n",
       "0                                                 []                   []   \n",
       "1                                                 []                   []   \n",
       "2                                                 []                   []   \n",
       "3  [{'DisplayInfo': '2014 – 2016 Eesti Haigekassa...                   []   \n",
       "4                                                 []                   []   \n",
       "\n",
       "  GoogleScholarProfile  \n",
       "0                  NaN  \n",
       "1                  NaN  \n",
       "2                  NaN  \n",
       "3                  NaN  \n",
       "4                  NaN  \n",
       "\n",
       "[5 rows x 30 columns]"
      ]
     },
     "execution_count": 152,
     "metadata": {},
     "output_type": "execute_result"
    }
   ],
   "source": [
    "df_etis.head()"
   ]
  },
  {
   "cell_type": "code",
   "execution_count": 153,
   "id": "4e6c79d3",
   "metadata": {},
   "outputs": [
    {
     "data": {
      "text/plain": [
       "Index(['Guid', 'PersonGuid', 'PersonName', 'DateOfBirth', 'DateOfDeath',\n",
       "       'Email', 'Phone', 'Phone2', 'Description', 'Homepage', 'ResearcherId',\n",
       "       'OrcId', 'OtherNames', 'OccupationInfos', 'EducationPaths',\n",
       "       'ResearchActivities', 'CreativeActivities',\n",
       "       'QualificationAdditionalInfos', 'ResearchAwards',\n",
       "       'ResearchDirectionInfos', 'Publications', 'Degrees', 'Mentorships',\n",
       "       'ScientificEquipments', 'Projects', 'ResearchAreasCercs',\n",
       "       'ResearchAreasEtis', 'ServiceAdditionalInfos', 'IndustrialProperties',\n",
       "       'GoogleScholarProfile'],\n",
       "      dtype='object')"
      ]
     },
     "execution_count": 153,
     "metadata": {},
     "output_type": "execute_result"
    }
   ],
   "source": [
    "df_etis.columns"
   ]
  },
  {
   "cell_type": "code",
   "execution_count": 154,
   "id": "d9e6ce67",
   "metadata": {},
   "outputs": [
    {
     "data": {
      "text/plain": [
       "0"
      ]
     },
     "execution_count": 154,
     "metadata": {},
     "output_type": "execute_result"
    }
   ],
   "source": [
    "pd.isnull(df_erakonnad.Sünniaeg).sum()"
   ]
  },
  {
   "cell_type": "code",
   "execution_count": 155,
   "id": "ce1f7ddb",
   "metadata": {},
   "outputs": [
    {
     "data": {
      "text/plain": [
       "3981"
      ]
     },
     "execution_count": 155,
     "metadata": {},
     "output_type": "execute_result"
    }
   ],
   "source": [
    "pd.isnull(df_etis.DateOfBirth).sum()"
   ]
  },
  {
   "cell_type": "code",
   "execution_count": 156,
   "id": "c6319d3e",
   "metadata": {},
   "outputs": [],
   "source": [
    "df_etis['PersonName_lower']=df_etis.PersonName.str.lower()\n",
    "df_erakonnad['nimi_lower']=df_erakonnad.Eesnimi.str.lower()+' '+df_erakonnad.Perekonnanimi.str.lower()"
   ]
  },
  {
   "cell_type": "markdown",
   "id": "7c881b39",
   "metadata": {},
   "source": [
    "#### merge ones who have name and date of birth"
   ]
  },
  {
   "cell_type": "code",
   "execution_count": 157,
   "id": "d16696e6",
   "metadata": {},
   "outputs": [
    {
     "data": {
      "text/plain": [
       "(11471, 31)"
      ]
     },
     "execution_count": 157,
     "metadata": {},
     "output_type": "execute_result"
    }
   ],
   "source": [
    "df_etis_bdy=df_etis[~pd.isnull(df_etis.DateOfBirth)]\n",
    "df_etis_bdy.shape"
   ]
  },
  {
   "cell_type": "code",
   "execution_count": 158,
   "id": "46add723",
   "metadata": {},
   "outputs": [
    {
     "data": {
      "text/plain": [
       "(3981, 31)"
      ]
     },
     "execution_count": 158,
     "metadata": {},
     "output_type": "execute_result"
    }
   ],
   "source": [
    "df_etis_no_bdy=df_etis[pd.isnull(df_etis.DateOfBirth)]\n",
    "df_etis_no_bdy.shape"
   ]
  },
  {
   "cell_type": "code",
   "execution_count": 159,
   "id": "14ed8547",
   "metadata": {},
   "outputs": [
    {
     "data": {
      "text/plain": [
       "(52935, 10)"
      ]
     },
     "execution_count": 159,
     "metadata": {},
     "output_type": "execute_result"
    }
   ],
   "source": [
    "df_merged=pd.merge(df_erakonnad, df_etis_bdy[['PersonName_lower', 'DateOfBirth','PersonGuid']],\n",
    "                   left_on=['nimi_lower', 'Sünniaeg'],\n",
    "                   right_on=['PersonName_lower', 'DateOfBirth'], \n",
    "                   how='left')\n",
    "df_merged.shape"
   ]
  },
  {
   "cell_type": "code",
   "execution_count": 160,
   "id": "ee75d924",
   "metadata": {},
   "outputs": [
    {
     "data": {
      "text/plain": [
       "alfred puro           1\n",
       "age kristel kartau    1\n",
       "jaak kals             1\n",
       "friedrich kaasik      1\n",
       "jaan järvik           1\n",
       "                     ..\n",
       "mari-anne meister     1\n",
       "christine lumen       1\n",
       "mati lukas            1\n",
       "marek link            1\n",
       "pärje ülavere         1\n",
       "Name: PersonName_lower, Length: 364, dtype: int64"
      ]
     },
     "execution_count": 160,
     "metadata": {},
     "output_type": "execute_result"
    }
   ],
   "source": [
    "df_merged.PersonName_lower.value_counts()"
   ]
  },
  {
   "cell_type": "markdown",
   "id": "ebec24ab",
   "metadata": {},
   "source": [
    "#### try to merge ones who have only names"
   ]
  },
  {
   "cell_type": "code",
   "execution_count": 161,
   "id": "90338552",
   "metadata": {},
   "outputs": [],
   "source": [
    "df_merged['etis_wo_bday']=is_in_etis=np.where((pd.isnull(df_merged.PersonName_lower))&(df_merged.nimi_lower.isin(df_etis_no_bdy.PersonName_lower.tolist())),\n",
    "          'yes', 'no')"
   ]
  },
  {
   "cell_type": "code",
   "execution_count": 162,
   "id": "b678772c",
   "metadata": {},
   "outputs": [
    {
     "data": {
      "text/plain": [
       "no     52717\n",
       "yes      218\n",
       "Name: etis_wo_bday, dtype: int64"
      ]
     },
     "execution_count": 162,
     "metadata": {},
     "output_type": "execute_result"
    }
   ],
   "source": [
    "df_merged['etis_wo_bday'].value_counts()"
   ]
  },
  {
   "cell_type": "code",
   "execution_count": 163,
   "id": "b9fb3696",
   "metadata": {},
   "outputs": [
    {
     "data": {
      "text/plain": [
       "Tamm        9\n",
       "Sepp        8\n",
       "Kask        7\n",
       "Liiv        5\n",
       "Oja         5\n",
       "           ..\n",
       "Heinsalu    1\n",
       "Hiiemäe     1\n",
       "Hinn        1\n",
       "Hoop        1\n",
       "Tuul        1\n",
       "Name: Perekonnanimi, Length: 164, dtype: int64"
      ]
     },
     "execution_count": 163,
     "metadata": {},
     "output_type": "execute_result"
    }
   ],
   "source": [
    "df_merged[df_merged['etis_wo_bday']=='yes'].Perekonnanimi.value_counts()"
   ]
  },
  {
   "cell_type": "code",
   "execution_count": 164,
   "id": "dd88a3b0",
   "metadata": {},
   "outputs": [
    {
     "data": {
      "text/plain": [
       "kaarel oja          3\n",
       "katrin sepp         3\n",
       "jelena bogdanova    2\n",
       "andres puusepp      2\n",
       "mare rebane         2\n",
       "                   ..\n",
       "pille hamburg       1\n",
       "siim heinsalu       1\n",
       "härmo hiiemäe       1\n",
       "annika hinn         1\n",
       "tarmo tuul          1\n",
       "Name: nimi_lower, Length: 192, dtype: int64"
      ]
     },
     "execution_count": 164,
     "metadata": {},
     "output_type": "execute_result"
    }
   ],
   "source": [
    "df_merged[df_merged['etis_wo_bday']=='yes'].nimi_lower.value_counts()"
   ]
  },
  {
   "cell_type": "code",
   "execution_count": 165,
   "id": "0301afac",
   "metadata": {},
   "outputs": [
    {
     "data": {
      "text/plain": [
       "Eesti_Reformierakond                      52\n",
       "Eesti_Keskerakond                         38\n",
       "ISAMAA_Erakond                            36\n",
       "Eesti_Konservatiivne_Rahvaerakond         30\n",
       "Sotsiaaldemokraatlik_Erakond              30\n",
       "Erakond_Eestimaa_Rohelised                12\n",
       "Eesti_Iseseisvuspartei                     8\n",
       "Erakond_Eesti_200                          7\n",
       "Eesti_Tulevikuerakond                      3\n",
       "EESTIMAA_ÜHENDATUD_VASAKPARTEI             1\n",
       "Eesti_Vabaduspartei_-_Põllumeeste_Kogu     1\n",
       "Name: erakond, dtype: int64"
      ]
     },
     "execution_count": 165,
     "metadata": {},
     "output_type": "execute_result"
    }
   ],
   "source": [
    "df_merged[df_merged['etis_wo_bday']=='yes'].erakond.value_counts()"
   ]
  },
  {
   "cell_type": "code",
   "execution_count": 166,
   "id": "4bccef52",
   "metadata": {},
   "outputs": [
    {
     "data": {
      "text/plain": [
       "ISAMAA_Erakond                            68\n",
       "Eesti_Reformierakond                      61\n",
       "Sotsiaaldemokraatlik_Erakond              56\n",
       "Eesti_Keskerakond                         49\n",
       "Eesti_Konservatiivne_Rahvaerakond         32\n",
       "Erakond_Eestimaa_Rohelised                29\n",
       "Erakond_Eesti_200                         29\n",
       "Eesti_Tulevikuerakond                     24\n",
       "Eesti_Iseseisvuspartei                    11\n",
       "Rahva_Ühtsuse_Erakond                      3\n",
       "EESTIMAA_ÜHENDATUD_VASAKPARTEI             1\n",
       "Eesti_Vabaduspartei_-_Põllumeeste_Kogu     1\n",
       "Name: erakond, dtype: int64"
      ]
     },
     "execution_count": 166,
     "metadata": {},
     "output_type": "execute_result"
    }
   ],
   "source": [
    "df_merged[~pd.isnull(df_merged['PersonName_lower'])].erakond.value_counts()"
   ]
  },
  {
   "cell_type": "code",
   "execution_count": 167,
   "id": "2a8514fa",
   "metadata": {},
   "outputs": [],
   "source": [
    "df_merged['is_in_etis']=np.where((~pd.isnull(df_merged['PersonName_lower'])|(df_merged['etis_wo_bday']=='yes')),\n",
    "                                'yes', 'no')"
   ]
  },
  {
   "cell_type": "code",
   "execution_count": 168,
   "id": "faba7959",
   "metadata": {},
   "outputs": [],
   "source": [
    "df_merged['is_in_etis_w_bday']=np.where((~pd.isnull(df_merged['PersonName_lower'])),\n",
    "                                'yes', 'no')"
   ]
  },
  {
   "cell_type": "markdown",
   "id": "e3bbc290",
   "metadata": {},
   "source": [
    "## Analyze - proportion of persons in ETIS as members of each party"
   ]
  },
  {
   "cell_type": "code",
   "execution_count": 169,
   "id": "d9903aad",
   "metadata": {},
   "outputs": [
    {
     "data": {
      "text/plain": [
       "no     52353\n",
       "yes      582\n",
       "Name: is_in_etis, dtype: int64"
      ]
     },
     "execution_count": 169,
     "metadata": {},
     "output_type": "execute_result"
    }
   ],
   "source": [
    "df_merged['is_in_etis'].value_counts()"
   ]
  },
  {
   "cell_type": "code",
   "execution_count": 170,
   "id": "0210c3c4",
   "metadata": {},
   "outputs": [
    {
     "data": {
      "text/plain": [
       "<AxesSubplot:ylabel='erakond'>"
      ]
     },
     "execution_count": 170,
     "metadata": {},
     "output_type": "execute_result"
    },
    {
     "data": {
      "image/png": "[encoded data removed]",
      "text/plain": [
       "<Figure size 432x288 with 1 Axes>"
      ]
     },
     "metadata": {
      "needs_background": "light"
     },
     "output_type": "display_data"
    }
   ],
   "source": [
    "#all names, with and without birthday in ETIS\n",
    "df_in_etis_perc=df_merged.groupby(['erakond'])['is_in_etis'].value_counts(normalize=True).unstack().sort_values('yes')\n",
    "df_in_etis_perc['yes'].plot(kind='barh')"
   ]
  },
  {
   "cell_type": "code",
   "execution_count": 171,
   "id": "0c653d88",
   "metadata": {},
   "outputs": [
    {
     "data": {
      "text/plain": [
       "(0.010626868676583573, 0.017017087708238055)"
      ]
     },
     "execution_count": 171,
     "metadata": {},
     "output_type": "execute_result"
    }
   ],
   "source": [
    "df_in_etis_perc['yes'].median(), df_in_etis_perc['yes'].mean()"
   ]
  },
  {
   "cell_type": "code",
   "execution_count": 172,
   "id": "b815a781",
   "metadata": {},
   "outputs": [
    {
     "data": {
      "text/html": [
       "<div>\n",
       "<style scoped>\n",
       "    .dataframe tbody tr th:only-of-type {\n",
       "        vertical-align: middle;\n",
       "    }\n",
       "\n",
       "    .dataframe tbody tr th {\n",
       "        vertical-align: top;\n",
       "    }\n",
       "\n",
       "    .dataframe thead th {\n",
       "        text-align: right;\n",
       "    }\n",
       "</style>\n",
       "<table border=\"1\" class=\"dataframe\">\n",
       "  <thead>\n",
       "    <tr style=\"text-align: right;\">\n",
       "      <th>is_in_etis</th>\n",
       "      <th>no</th>\n",
       "      <th>yes</th>\n",
       "    </tr>\n",
       "    <tr>\n",
       "      <th>erakond</th>\n",
       "      <th></th>\n",
       "      <th></th>\n",
       "    </tr>\n",
       "  </thead>\n",
       "  <tbody>\n",
       "    <tr>\n",
       "      <th>Eesti_Vabaduspartei_-_Põllumeeste_Kogu</th>\n",
       "      <td>0.996960</td>\n",
       "      <td>0.003040</td>\n",
       "    </tr>\n",
       "    <tr>\n",
       "      <th>EESTIMAA_ÜHENDATUD_VASAKPARTEI</th>\n",
       "      <td>0.994302</td>\n",
       "      <td>0.005698</td>\n",
       "    </tr>\n",
       "    <tr>\n",
       "      <th>Eesti_Konservatiivne_Rahvaerakond</th>\n",
       "      <td>0.993866</td>\n",
       "      <td>0.006134</td>\n",
       "    </tr>\n",
       "    <tr>\n",
       "      <th>Eesti_Keskerakond</th>\n",
       "      <td>0.993817</td>\n",
       "      <td>0.006183</td>\n",
       "    </tr>\n",
       "    <tr>\n",
       "      <th>Rahva_Ühtsuse_Erakond</th>\n",
       "      <td>0.993435</td>\n",
       "      <td>0.006565</td>\n",
       "    </tr>\n",
       "    <tr>\n",
       "      <th>Eesti_Reformierakond</th>\n",
       "      <td>0.989475</td>\n",
       "      <td>0.010525</td>\n",
       "    </tr>\n",
       "    <tr>\n",
       "      <th>Eesti_Iseseisvuspartei</th>\n",
       "      <td>0.989272</td>\n",
       "      <td>0.010728</td>\n",
       "    </tr>\n",
       "    <tr>\n",
       "      <th>ISAMAA_Erakond</th>\n",
       "      <td>0.985505</td>\n",
       "      <td>0.014495</td>\n",
       "    </tr>\n",
       "    <tr>\n",
       "      <th>Sotsiaaldemokraatlik_Erakond</th>\n",
       "      <td>0.983164</td>\n",
       "      <td>0.016836</td>\n",
       "    </tr>\n",
       "    <tr>\n",
       "      <th>Eesti_Tulevikuerakond</th>\n",
       "      <td>0.963612</td>\n",
       "      <td>0.036388</td>\n",
       "    </tr>\n",
       "    <tr>\n",
       "      <th>Erakond_Eesti_200</th>\n",
       "      <td>0.959459</td>\n",
       "      <td>0.040541</td>\n",
       "    </tr>\n",
       "    <tr>\n",
       "      <th>Erakond_Eestimaa_Rohelised</th>\n",
       "      <td>0.952928</td>\n",
       "      <td>0.047072</td>\n",
       "    </tr>\n",
       "  </tbody>\n",
       "</table>\n",
       "</div>"
      ],
      "text/plain": [
       "is_in_etis                                    no       yes\n",
       "erakond                                                   \n",
       "Eesti_Vabaduspartei_-_Põllumeeste_Kogu  0.996960  0.003040\n",
       "EESTIMAA_ÜHENDATUD_VASAKPARTEI          0.994302  0.005698\n",
       "Eesti_Konservatiivne_Rahvaerakond       0.993866  0.006134\n",
       "Eesti_Keskerakond                       0.993817  0.006183\n",
       "Rahva_Ühtsuse_Erakond                   0.993435  0.006565\n",
       "Eesti_Reformierakond                    0.989475  0.010525\n",
       "Eesti_Iseseisvuspartei                  0.989272  0.010728\n",
       "ISAMAA_Erakond                          0.985505  0.014495\n",
       "Sotsiaaldemokraatlik_Erakond            0.983164  0.016836\n",
       "Eesti_Tulevikuerakond                   0.963612  0.036388\n",
       "Erakond_Eesti_200                       0.959459  0.040541\n",
       "Erakond_Eestimaa_Rohelised              0.952928  0.047072"
      ]
     },
     "execution_count": 172,
     "metadata": {},
     "output_type": "execute_result"
    }
   ],
   "source": [
    "df_in_etis_perc"
   ]
  },
  {
   "cell_type": "code",
   "execution_count": 173,
   "id": "44b4ac38",
   "metadata": {},
   "outputs": [
    {
     "data": {
      "text/plain": [
       "<AxesSubplot:ylabel='erakond'>"
      ]
     },
     "execution_count": 173,
     "metadata": {},
     "output_type": "execute_result"
    },
    {
     "data": {
      "image/png": "[encoded data removed]",
      "text/plain": [
       "<Figure size 432x288 with 1 Axes>"
      ]
     },
     "metadata": {
      "needs_background": "light"
     },
     "output_type": "display_data"
    }
   ],
   "source": [
    "#only names in ETIS with birthdays\n",
    "df_in_etis_w_bday=perc=df_merged.groupby(['erakond'])['is_in_etis_w_bday'].value_counts(normalize=True).unstack().sort_values('yes')\n",
    "(df_in_etis_w_bday['yes']*100).plot(kind='barh')"
   ]
  },
  {
   "cell_type": "code",
   "execution_count": 174,
   "id": "8a76ba07",
   "metadata": {},
   "outputs": [
    {
     "data": {
      "text/plain": [
       "(0.006387865773271538, 0.01235108224384372)"
      ]
     },
     "execution_count": 174,
     "metadata": {},
     "output_type": "execute_result"
    }
   ],
   "source": [
    "#median and mean of all parties\n",
    "df_in_etis_w_bday['yes'].median(), df_in_etis_w_bday['yes'].mean()"
   ]
  },
  {
   "cell_type": "code",
   "execution_count": 175,
   "id": "a13c1e5d",
   "metadata": {},
   "outputs": [
    {
     "data": {
      "text/html": [
       "<div>\n",
       "<style scoped>\n",
       "    .dataframe tbody tr th:only-of-type {\n",
       "        vertical-align: middle;\n",
       "    }\n",
       "\n",
       "    .dataframe tbody tr th {\n",
       "        vertical-align: top;\n",
       "    }\n",
       "\n",
       "    .dataframe thead th {\n",
       "        text-align: right;\n",
       "    }\n",
       "</style>\n",
       "<table border=\"1\" class=\"dataframe\">\n",
       "  <thead>\n",
       "    <tr style=\"text-align: right;\">\n",
       "      <th>is_in_etis_w_bday</th>\n",
       "      <th>no</th>\n",
       "      <th>yes</th>\n",
       "    </tr>\n",
       "    <tr>\n",
       "      <th>erakond</th>\n",
       "      <th></th>\n",
       "      <th></th>\n",
       "    </tr>\n",
       "  </thead>\n",
       "  <tbody>\n",
       "    <tr>\n",
       "      <th>Eesti_Vabaduspartei_-_Põllumeeste_Kogu</th>\n",
       "      <td>0.998480</td>\n",
       "      <td>0.001520</td>\n",
       "    </tr>\n",
       "    <tr>\n",
       "      <th>EESTIMAA_ÜHENDATUD_VASAKPARTEI</th>\n",
       "      <td>0.997151</td>\n",
       "      <td>0.002849</td>\n",
       "    </tr>\n",
       "    <tr>\n",
       "      <th>Eesti_Konservatiivne_Rahvaerakond</th>\n",
       "      <td>0.996834</td>\n",
       "      <td>0.003166</td>\n",
       "    </tr>\n",
       "    <tr>\n",
       "      <th>Eesti_Keskerakond</th>\n",
       "      <td>0.996517</td>\n",
       "      <td>0.003483</td>\n",
       "    </tr>\n",
       "    <tr>\n",
       "      <th>Eesti_Reformierakond</th>\n",
       "      <td>0.994318</td>\n",
       "      <td>0.005682</td>\n",
       "    </tr>\n",
       "    <tr>\n",
       "      <th>Eesti_Iseseisvuspartei</th>\n",
       "      <td>0.993789</td>\n",
       "      <td>0.006211</td>\n",
       "    </tr>\n",
       "    <tr>\n",
       "      <th>Rahva_Ühtsuse_Erakond</th>\n",
       "      <td>0.993435</td>\n",
       "      <td>0.006565</td>\n",
       "    </tr>\n",
       "    <tr>\n",
       "      <th>ISAMAA_Erakond</th>\n",
       "      <td>0.990523</td>\n",
       "      <td>0.009477</td>\n",
       "    </tr>\n",
       "    <tr>\n",
       "      <th>Sotsiaaldemokraatlik_Erakond</th>\n",
       "      <td>0.989037</td>\n",
       "      <td>0.010963</td>\n",
       "    </tr>\n",
       "    <tr>\n",
       "      <th>Eesti_Tulevikuerakond</th>\n",
       "      <td>0.967655</td>\n",
       "      <td>0.032345</td>\n",
       "    </tr>\n",
       "    <tr>\n",
       "      <th>Erakond_Eesti_200</th>\n",
       "      <td>0.967342</td>\n",
       "      <td>0.032658</td>\n",
       "    </tr>\n",
       "    <tr>\n",
       "      <th>Erakond_Eestimaa_Rohelised</th>\n",
       "      <td>0.966705</td>\n",
       "      <td>0.033295</td>\n",
       "    </tr>\n",
       "  </tbody>\n",
       "</table>\n",
       "</div>"
      ],
      "text/plain": [
       "is_in_etis_w_bday                             no       yes\n",
       "erakond                                                   \n",
       "Eesti_Vabaduspartei_-_Põllumeeste_Kogu  0.998480  0.001520\n",
       "EESTIMAA_ÜHENDATUD_VASAKPARTEI          0.997151  0.002849\n",
       "Eesti_Konservatiivne_Rahvaerakond       0.996834  0.003166\n",
       "Eesti_Keskerakond                       0.996517  0.003483\n",
       "Eesti_Reformierakond                    0.994318  0.005682\n",
       "Eesti_Iseseisvuspartei                  0.993789  0.006211\n",
       "Rahva_Ühtsuse_Erakond                   0.993435  0.006565\n",
       "ISAMAA_Erakond                          0.990523  0.009477\n",
       "Sotsiaaldemokraatlik_Erakond            0.989037  0.010963\n",
       "Eesti_Tulevikuerakond                   0.967655  0.032345\n",
       "Erakond_Eesti_200                       0.967342  0.032658\n",
       "Erakond_Eestimaa_Rohelised              0.966705  0.033295"
      ]
     },
     "execution_count": 175,
     "metadata": {},
     "output_type": "execute_result"
    }
   ],
   "source": [
    "df_in_etis_w_bday"
   ]
  },
  {
   "cell_type": "code",
   "execution_count": 176,
   "id": "8580708f",
   "metadata": {},
   "outputs": [
    {
     "data": {
      "text/plain": [
       "<AxesSubplot:>"
      ]
     },
     "execution_count": 176,
     "metadata": {},
     "output_type": "execute_result"
    },
    {
     "data": {
      "image/png": "[encoded data removed]",
      "text/plain": [
       "<Figure size 432x288 with 1 Axes>"
      ]
     },
     "metadata": {
      "needs_background": "light"
     },
     "output_type": "display_data"
    }
   ],
   "source": [
    "#number of members in parties\n",
    "df_erakond_llikmed_count=df_merged.erakond.value_counts().sort_values()\n",
    "df_erakond_llikmed_count.plot(kind='barh')"
   ]
  },
  {
   "cell_type": "code",
   "execution_count": 177,
   "id": "6bf45971",
   "metadata": {},
   "outputs": [
    {
     "data": {
      "text/plain": [
       "EESTIMAA_ÜHENDATUD_VASAKPARTEI              351\n",
       "Eesti_Iseseisvuspartei                     1771\n",
       "Eesti_Keskerakond                         14070\n",
       "Eesti_Konservatiivne_Rahvaerakond         10108\n",
       "Eesti_Reformierakond                      10736\n",
       "Eesti_Tulevikuerakond                       742\n",
       "Eesti_Vabaduspartei_-_Põllumeeste_Kogu      658\n",
       "Erakond_Eesti_200                           888\n",
       "Erakond_Eestimaa_Rohelised                  871\n",
       "ISAMAA_Erakond                             7175\n",
       "Rahva_Ühtsuse_Erakond                       457\n",
       "Sotsiaaldemokraatlik_Erakond               5108\n",
       "Name: erakond, dtype: int64"
      ]
     },
     "execution_count": 177,
     "metadata": {},
     "output_type": "execute_result"
    }
   ],
   "source": [
    "df_erakond_llikmed_count.sort_index()"
   ]
  },
  {
   "cell_type": "code",
   "execution_count": 178,
   "id": "9be45280",
   "metadata": {},
   "outputs": [
    {
     "data": {
      "text/html": [
       "<div>\n",
       "<style scoped>\n",
       "    .dataframe tbody tr th:only-of-type {\n",
       "        vertical-align: middle;\n",
       "    }\n",
       "\n",
       "    .dataframe tbody tr th {\n",
       "        vertical-align: top;\n",
       "    }\n",
       "\n",
       "    .dataframe thead th {\n",
       "        text-align: right;\n",
       "    }\n",
       "</style>\n",
       "<table border=\"1\" class=\"dataframe\">\n",
       "  <thead>\n",
       "    <tr style=\"text-align: right;\">\n",
       "      <th>is_in_etis_w_bday</th>\n",
       "      <th>no</th>\n",
       "      <th>yes</th>\n",
       "      <th>n</th>\n",
       "    </tr>\n",
       "    <tr>\n",
       "      <th>erakond</th>\n",
       "      <th></th>\n",
       "      <th></th>\n",
       "      <th></th>\n",
       "    </tr>\n",
       "  </thead>\n",
       "  <tbody>\n",
       "    <tr>\n",
       "      <th>EESTIMAA_ÜHENDATUD_VASAKPARTEI</th>\n",
       "      <td>0.997151</td>\n",
       "      <td>0.002849</td>\n",
       "      <td>351</td>\n",
       "    </tr>\n",
       "    <tr>\n",
       "      <th>Eesti_Iseseisvuspartei</th>\n",
       "      <td>0.993789</td>\n",
       "      <td>0.006211</td>\n",
       "      <td>1771</td>\n",
       "    </tr>\n",
       "    <tr>\n",
       "      <th>Eesti_Keskerakond</th>\n",
       "      <td>0.996517</td>\n",
       "      <td>0.003483</td>\n",
       "      <td>14070</td>\n",
       "    </tr>\n",
       "    <tr>\n",
       "      <th>Eesti_Konservatiivne_Rahvaerakond</th>\n",
       "      <td>0.996834</td>\n",
       "      <td>0.003166</td>\n",
       "      <td>10108</td>\n",
       "    </tr>\n",
       "    <tr>\n",
       "      <th>Eesti_Reformierakond</th>\n",
       "      <td>0.994318</td>\n",
       "      <td>0.005682</td>\n",
       "      <td>10736</td>\n",
       "    </tr>\n",
       "    <tr>\n",
       "      <th>Eesti_Tulevikuerakond</th>\n",
       "      <td>0.967655</td>\n",
       "      <td>0.032345</td>\n",
       "      <td>742</td>\n",
       "    </tr>\n",
       "    <tr>\n",
       "      <th>Eesti_Vabaduspartei_-_Põllumeeste_Kogu</th>\n",
       "      <td>0.998480</td>\n",
       "      <td>0.001520</td>\n",
       "      <td>658</td>\n",
       "    </tr>\n",
       "    <tr>\n",
       "      <th>Erakond_Eesti_200</th>\n",
       "      <td>0.967342</td>\n",
       "      <td>0.032658</td>\n",
       "      <td>888</td>\n",
       "    </tr>\n",
       "    <tr>\n",
       "      <th>Erakond_Eestimaa_Rohelised</th>\n",
       "      <td>0.966705</td>\n",
       "      <td>0.033295</td>\n",
       "      <td>871</td>\n",
       "    </tr>\n",
       "    <tr>\n",
       "      <th>ISAMAA_Erakond</th>\n",
       "      <td>0.990523</td>\n",
       "      <td>0.009477</td>\n",
       "      <td>7175</td>\n",
       "    </tr>\n",
       "    <tr>\n",
       "      <th>Rahva_Ühtsuse_Erakond</th>\n",
       "      <td>0.993435</td>\n",
       "      <td>0.006565</td>\n",
       "      <td>457</td>\n",
       "    </tr>\n",
       "    <tr>\n",
       "      <th>Sotsiaaldemokraatlik_Erakond</th>\n",
       "      <td>0.989037</td>\n",
       "      <td>0.010963</td>\n",
       "      <td>5108</td>\n",
       "    </tr>\n",
       "  </tbody>\n",
       "</table>\n",
       "</div>"
      ],
      "text/plain": [
       "is_in_etis_w_bday                             no       yes      n\n",
       "erakond                                                          \n",
       "EESTIMAA_ÜHENDATUD_VASAKPARTEI          0.997151  0.002849    351\n",
       "Eesti_Iseseisvuspartei                  0.993789  0.006211   1771\n",
       "Eesti_Keskerakond                       0.996517  0.003483  14070\n",
       "Eesti_Konservatiivne_Rahvaerakond       0.996834  0.003166  10108\n",
       "Eesti_Reformierakond                    0.994318  0.005682  10736\n",
       "Eesti_Tulevikuerakond                   0.967655  0.032345    742\n",
       "Eesti_Vabaduspartei_-_Põllumeeste_Kogu  0.998480  0.001520    658\n",
       "Erakond_Eesti_200                       0.967342  0.032658    888\n",
       "Erakond_Eestimaa_Rohelised              0.966705  0.033295    871\n",
       "ISAMAA_Erakond                          0.990523  0.009477   7175\n",
       "Rahva_Ühtsuse_Erakond                   0.993435  0.006565    457\n",
       "Sotsiaaldemokraatlik_Erakond            0.989037  0.010963   5108"
      ]
     },
     "execution_count": 178,
     "metadata": {},
     "output_type": "execute_result"
    }
   ],
   "source": [
    "df_in_etis_w_bday=df_in_etis_w_bday.sort_index()\n",
    "df_in_etis_w_bday['n']=df_erakond_llikmed_count.sort_index()\n",
    "df_in_etis_w_bday"
   ]
  },
  {
   "cell_type": "code",
   "execution_count": 212,
   "id": "7913c40c",
   "metadata": {},
   "outputs": [
    {
     "data": {
      "image/png": "[encoded data removed]",
      "text/plain": [
       "<Figure size 720x504 with 1 Axes>"
      ]
     },
     "metadata": {
      "needs_background": "light"
     },
     "output_type": "display_data"
    }
   ],
   "source": [
    "df_in_etis_w_bday['yes_perc']=df_in_etis_w_bday.yes*100\n",
    "# ax1 = df_in_etis_w_bday.plot.scatter(x='n',\n",
    "#                                      y='yes_perc',\n",
    "#                                      c='DarkBlue')\n",
    "fig, ax = plt.subplots(figsize=(10,7))\n",
    "df_in_etis_w_bday.plot('n', 'yes_perc', kind='scatter', ax=ax)\n",
    "\n",
    "for k, v in df_in_etis_w_bday.iterrows():\n",
    "    ax.annotate(k, (v['n']-np.random.rand()*500, v['yes_perc']+np.random.rand()*0.05))"
   ]
  },
  {
   "cell_type": "code",
   "execution_count": null,
   "id": "f9db7589",
   "metadata": {},
   "outputs": [],
   "source": []
  }
 ],
 "metadata": {
  "kernelspec": {
   "display_name": "Python 3 (ipykernel)",
   "language": "python",
   "name": "python3"
  },
  "language_info": {
   "codemirror_mode": {
    "name": "ipython",
    "version": 3
   },
   "file_extension": ".py",
   "mimetype": "text/x-python",
   "name": "python",
   "nbconvert_exporter": "python",
   "pygments_lexer": "ipython3",
   "version": "3.9.12"
  }
 },
 "nbformat": 4,
 "nbformat_minor": 5
}
