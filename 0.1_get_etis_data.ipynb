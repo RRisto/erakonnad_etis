{
 "cells": [
  {
   "cell_type": "code",
   "execution_count": 32,
   "id": "3c0b772e",
   "metadata": {},
   "outputs": [],
   "source": [
    "import math\n",
    "import json\n",
    "import requests\n",
    "import pandas as pd"
   ]
  },
  {
   "cell_type": "markdown",
   "id": "e518cf6c",
   "metadata": {},
   "source": [
    "## Get number of persons"
   ]
  },
  {
   "cell_type": "code",
   "execution_count": 14,
   "id": "524f0136",
   "metadata": {},
   "outputs": [],
   "source": [
    "def get_request_content(link):\n",
    "    response=requests.get(link)\n",
    "    content=json.loads(response.content)\n",
    "    return content\n",
    "\n",
    "def get_person_count(link):\n",
    "    response_content=get_request_content(link)\n",
    "    count=response_content['Count']\n",
    "    return count"
   ]
  },
  {
   "cell_type": "code",
   "execution_count": 15,
   "id": "ab907058",
   "metadata": {},
   "outputs": [
    {
     "data": {
      "text/plain": [
       "15601"
      ]
     },
     "execution_count": 15,
     "metadata": {},
     "output_type": "execute_result"
    }
   ],
   "source": [
    "n_person_et=get_person_count('https://www.etis.ee:7443/api/cvest/getcount?Format=json&SearchType=3&Take=5&Skip=0')\n",
    "n_person_et"
   ]
  },
  {
   "cell_type": "code",
   "execution_count": 16,
   "id": "c5722f7b",
   "metadata": {},
   "outputs": [
    {
     "data": {
      "text/plain": [
       "15601"
      ]
     },
     "execution_count": 16,
     "metadata": {},
     "output_type": "execute_result"
    }
   ],
   "source": [
    "n_person_en=get_person_count('https://www.etis.ee:7443/api/cveng/getcount?Format=json&SearchType=3&Take=5&Skip=0')\n",
    "n_person_en"
   ]
  },
  {
   "cell_type": "markdown",
   "id": "9b711c74",
   "metadata": {},
   "source": [
    "## Get each person details"
   ]
  },
  {
   "cell_type": "code",
   "execution_count": 39,
   "id": "aa14b327",
   "metadata": {},
   "outputs": [
    {
     "name": "stdout",
     "output_type": "stream",
     "text": [
      "working on page 1\n",
      "working on page 2\n",
      "working on page 3\n",
      "working on page 4\n",
      "working on page 6\n",
      "working on page 7\n",
      "working on page 8\n",
      "working on page 9\n",
      "working on page 11\n",
      "working on page 12\n",
      "working on page 13\n",
      "working on page 14\n",
      "working on page 16\n",
      "working on page 17\n",
      "working on page 18\n",
      "working on page 19\n",
      "working on page 21\n",
      "working on page 22\n",
      "working on page 23\n",
      "working on page 24\n",
      "working on page 26\n",
      "working on page 27\n",
      "working on page 28\n",
      "working on page 29\n",
      "working on page 31\n",
      "working on page 32\n",
      "working on page 33\n",
      "working on page 34\n",
      "working on page 36\n",
      "working on page 37\n",
      "working on page 38\n",
      "working on page 39\n",
      "working on page 41\n",
      "working on page 42\n",
      "working on page 43\n",
      "working on page 44\n",
      "working on page 46\n",
      "working on page 47\n",
      "working on page 48\n",
      "working on page 49\n",
      "working on page 51\n",
      "working on page 52\n",
      "working on page 53\n",
      "working on page 54\n",
      "working on page 56\n",
      "working on page 57\n",
      "working on page 58\n",
      "working on page 59\n",
      "working on page 61\n",
      "working on page 62\n",
      "working on page 63\n",
      "working on page 64\n",
      "working on page 66\n",
      "working on page 67\n",
      "working on page 68\n",
      "working on page 69\n",
      "working on page 71\n",
      "working on page 72\n",
      "working on page 73\n",
      "working on page 74\n",
      "working on page 76\n",
      "working on page 77\n",
      "working on page 78\n",
      "working on page 79\n",
      "working on page 81\n",
      "working on page 82\n",
      "working on page 83\n",
      "working on page 84\n",
      "working on page 86\n",
      "working on page 87\n",
      "working on page 88\n",
      "working on page 89\n",
      "working on page 91\n",
      "working on page 92\n",
      "working on page 93\n",
      "working on page 94\n",
      "working on page 96\n",
      "working on page 97\n",
      "working on page 98\n",
      "working on page 99\n",
      "working on page 101\n",
      "working on page 102\n",
      "working on page 103\n",
      "working on page 104\n",
      "working on page 106\n",
      "working on page 107\n",
      "working on page 108\n",
      "working on page 109\n",
      "working on page 111\n",
      "working on page 112\n",
      "working on page 113\n",
      "working on page 114\n",
      "working on page 116\n",
      "working on page 117\n",
      "working on page 118\n",
      "working on page 119\n",
      "working on page 121\n",
      "working on page 122\n",
      "working on page 123\n",
      "working on page 124\n",
      "working on page 126\n",
      "working on page 127\n",
      "working on page 128\n",
      "working on page 129\n",
      "working on page 131\n",
      "working on page 132\n",
      "working on page 133\n",
      "working on page 134\n",
      "working on page 136\n",
      "working on page 137\n",
      "working on page 138\n",
      "working on page 139\n",
      "working on page 141\n",
      "working on page 142\n",
      "working on page 143\n",
      "working on page 144\n",
      "working on page 146\n",
      "working on page 147\n",
      "working on page 148\n",
      "working on page 149\n",
      "working on page 151\n",
      "working on page 152\n",
      "working on page 153\n",
      "working on page 154\n",
      "working on page 156\n"
     ]
    }
   ],
   "source": [
    "persons_data=[]\n",
    "\n",
    "n_on_page=100\n",
    "for i in range(math.ceil(n_person_et/n_on_page)):\n",
    "    print(f'working on page {i}')\n",
    "    person_detail_url=f'https://www.etis.ee:7443/api/cvest/getitems?Format=json&SearchType=3&Take={n_on_page}&Skip={n_on_page*i}'\n",
    "    data_=get_request_content(person_detail_url)\n",
    "    persons_data.extend(data_)"
   ]
  },
  {
   "cell_type": "code",
   "execution_count": 40,
   "id": "43085ea1",
   "metadata": {},
   "outputs": [
    {
     "data": {
      "text/plain": [
       "15601"
      ]
     },
     "execution_count": 40,
     "metadata": {},
     "output_type": "execute_result"
    }
   ],
   "source": [
    "len(persons_data)"
   ]
  },
  {
   "cell_type": "code",
   "execution_count": 38,
   "id": "55f28e05",
   "metadata": {},
   "outputs": [
    {
     "data": {
      "text/plain": [
       "{'Guid': '19a8835a-3587-4991-80ae-3bfc853849ab',\n",
       " 'PersonGuid': 'a7e372e3-ae14-4517-b9a9-5eb12996152f',\n",
       " 'PersonName': 'Ivo Paulus',\n",
       " 'DateOfBirth': '20.07.1976',\n",
       " 'DateOfDeath': '',\n",
       " 'Email': 'ivopaulus@yahoo.com',\n",
       " 'Phone': '56 683515',\n",
       " 'Phone2': '6 721195',\n",
       " 'Description': 'Päästeamet, Eesti Tuletõrjemuuseumi juhataja',\n",
       " 'Homepage': '',\n",
       " 'ResearcherId': '',\n",
       " 'OrcId': '',\n",
       " 'OtherNames': [],\n",
       " 'OccupationInfos': [{'DisplayInfo': '15.05.2013–...   Päästeamet, Eesti Tuletõrjemuuseumi juhataja (100,00)',\n",
       "   'Guid': '0c2d3b4c-9abf-43c4-b466-79eaa5d4577c',\n",
       "   'Period1': None,\n",
       "   'Period2': None}],\n",
       " 'EducationPaths': [{'Guid': 'a60be108-3c94-4844-8c8d-3184b7bc5afe',\n",
       "   'DisplayInfo': 'Eesti Humanitaarinstituut, ajalugu ',\n",
       "   'PeriodEndDate': '2004',\n",
       "   'PeriodStartDate': '1998'},\n",
       "  {'Guid': '3331e097-3426-452d-9a34-77376fccfd68',\n",
       "   'DisplayInfo': 'Tallinna Ülikool, ajaloo magistriõpe',\n",
       "   'PeriodEndDate': '05.06.2009',\n",
       "   'PeriodStartDate': '2004'}],\n",
       " 'ResearchActivities': [],\n",
       " 'CreativeActivities': [],\n",
       " 'QualificationAdditionalInfos': [],\n",
       " 'ResearchAwards': [],\n",
       " 'ResearchDirectionInfos': [{'Guid': 'a52f4c97-5a4d-4e2e-b344-198d22216ca2',\n",
       "   'DisplayInfo': ''}],\n",
       " 'Publications': [],\n",
       " 'Degrees': [],\n",
       " 'Mentorships': [],\n",
       " 'ScientificEquipments': [],\n",
       " 'Projects': [],\n",
       " 'ResearchAreasCercs': [{'Guid': 'a52f4c97-5a4d-4e2e-b344-198d22216ca2',\n",
       "   'Code': 'S220',\n",
       "   'Name': 'Kultuuriantropoloogia, etnoloogia '}],\n",
       " 'ResearchAreasEtis': [{'Guid': 'a52f4c97-5a4d-4e2e-b344-198d22216ca2',\n",
       "   'Code': '2. ',\n",
       "   'Name': 'ETIS VALDKOND: 2.  Ühiskonnateadused ja kultuur; 2.4.  Kultuuriuuringud; CERCS VALDKOND: S220 Kultuuriantropoloogia, etnoloogia '}],\n",
       " 'ServiceAdditionalInfos': [],\n",
       " 'IndustrialProperties': [],\n",
       " 'GoogleScholarProfile': ''}"
      ]
     },
     "execution_count": 38,
     "metadata": {},
     "output_type": "execute_result"
    }
   ],
   "source": [
    "persons_data[-1]"
   ]
  },
  {
   "cell_type": "code",
   "execution_count": 42,
   "id": "80e72dc1",
   "metadata": {},
   "outputs": [],
   "source": [
    "df=pd.DataFrame(persons_data)"
   ]
  },
  {
   "cell_type": "markdown",
   "id": "ddb25173",
   "metadata": {},
   "source": [
    "## Save"
   ]
  },
  {
   "cell_type": "code",
   "execution_count": 43,
   "id": "7d73f6a9",
   "metadata": {},
   "outputs": [],
   "source": [
    "df.to_csv('data/raw/etis/etis.csv', index=False)"
   ]
  },
  {
   "cell_type": "code",
   "execution_count": null,
   "id": "ad9782b3",
   "metadata": {},
   "outputs": [],
   "source": []
  }
 ],
 "metadata": {
  "kernelspec": {
   "display_name": "Python 3 (ipykernel)",
   "language": "python",
   "name": "python3"
  },
  "language_info": {
   "codemirror_mode": {
    "name": "ipython",
    "version": 3
   },
   "file_extension": ".py",
   "mimetype": "text/x-python",
   "name": "python",
   "nbconvert_exporter": "python",
   "pygments_lexer": "ipython3",
   "version": "3.9.12"
  }
 },
 "nbformat": 4,
 "nbformat_minor": 5
}
