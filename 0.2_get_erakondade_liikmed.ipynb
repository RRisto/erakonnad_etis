{
 "cells": [
  {
   "cell_type": "code",
   "execution_count": 6,
   "id": "86f02717",
   "metadata": {},
   "outputs": [],
   "source": [
    "import json\n",
    "import urllib.request\n",
    "\n",
    "import pandas as pd"
   ]
  },
  {
   "cell_type": "markdown",
   "id": "7e5ad5fb",
   "metadata": {},
   "source": [
    "## Download data"
   ]
  },
  {
   "cell_type": "code",
   "execution_count": 11,
   "id": "cb7aa9cc",
   "metadata": {},
   "outputs": [],
   "source": [
    "link2members={'Eesti Iseseisvuspartei':'https://ariregister.rik.ee/est/political_party/members/80051885?download=CSV',\n",
    "             'Eesti Keskerakond':'https://ariregister.rik.ee/est/political_party/members/80053370?download=CSV',\n",
    "             'Eesti Konservatiivne Rahvaerakond': 'https://ariregister.rik.ee/est/political_party/members/80040344?download=CSV',\n",
    "             'EESTIMAA ÜHENDATUD VASAKPARTEI':'https://ariregister.rik.ee/est/political_party/members/80060022?download=CSV',\n",
    "             'Eesti Reformierakond':'https://ariregister.rik.ee/est/political_party/members/80043147?download=CSV',\n",
    "             'Eesti Tulevikuerakond': 'https://ariregister.rik.ee/est/political_party/members/80589722?download=CSV',\n",
    "             'Eesti Vabaduspartei - Põllumeeste Kogu': 'https://ariregister.rik.ee/est/political_party/members/80051862?download=CSV',\n",
    "             'Erakond Eesti 200':'https://ariregister.rik.ee/est/political_party/members/80551335?download=CSV',\n",
    "             'Erakond Eestimaa Rohelised': 'https://ariregister.rik.ee/est/political_party/members/80223139?download=CSV',\n",
    "             'ISAMAA Erakond': 'https://ariregister.rik.ee/est/political_party/members/80243584?download=CSV',\n",
    "             'Sotsiaaldemokraatlik Erakond': 'https://ariregister.rik.ee/est/political_party/members/80052459?download=CSV',\n",
    "             'Rahva Ühtsuse Erakond': 'https://ariregister.rik.ee/est/political_party/members/80374223?download=CSV'}"
   ]
  },
  {
   "cell_type": "code",
   "execution_count": 14,
   "id": "9b13a079",
   "metadata": {},
   "outputs": [
    {
     "name": "stdout",
     "output_type": "stream",
     "text": [
      "Eesti Iseseisvuspartei\n",
      "Eesti Keskerakond\n",
      "Eesti Konservatiivne Rahvaerakond\n",
      "EESTIMAA ÜHENDATUD VASAKPARTEI\n",
      "Eesti Reformierakond\n",
      "Eesti Tulevikuerakond\n",
      "Eesti Vabaduspartei - Põllumeeste Kogu\n",
      "Erakond Eesti 200\n",
      "Erakond Eestimaa Rohelised\n",
      "ISAMAA Erakond\n",
      "Sotsiaaldemokraatlik Erakond\n",
      "Rahva Ühtsuse Erakond\n"
     ]
    }
   ],
   "source": [
    "for erakond, link in link2members.items():\n",
    "    print(erakond)\n",
    "    urllib.request.urlretrieve(link, \n",
    "                           f\"data/raw/erakonnad/{erakond.replace(' ','_')}.csv\")"
   ]
  },
  {
   "cell_type": "code",
   "execution_count": null,
   "id": "45da78a4",
   "metadata": {},
   "outputs": [],
   "source": []
  }
 ],
 "metadata": {
  "kernelspec": {
   "display_name": "Python 3 (ipykernel)",
   "language": "python",
   "name": "python3"
  },
  "language_info": {
   "codemirror_mode": {
    "name": "ipython",
    "version": 3
   },
   "file_extension": ".py",
   "mimetype": "text/x-python",
   "name": "python",
   "nbconvert_exporter": "python",
   "pygments_lexer": "ipython3",
   "version": "3.9.12"
  }
 },
 "nbformat": 4,
 "nbformat_minor": 5
}
